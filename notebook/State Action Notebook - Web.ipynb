{
 "cells": [
  {
   "cell_type": "markdown",
   "metadata": {},
   "source": [
    "# State Action Notebook - Web\n",
    "\n",
    "In this notebook we are going to look at the state / action JSON that we get from Web-Client. "
   ]
  },
  {
   "cell_type": "code",
   "execution_count": 1,
   "metadata": {},
   "outputs": [],
   "source": [
    "import json # JSON handling\n",
    "import numpy as np # linear algebra\n",
    "import matplotlib.pyplot as plt # visualisation\n",
    "%matplotlib inline"
   ]
  },
  {
   "cell_type": "markdown",
   "metadata": {},
   "source": [
    "## State"
   ]
  },
  {
   "cell_type": "code",
   "execution_count": 2,
   "metadata": {},
   "outputs": [],
   "source": [
    "state = open('./example_observation_state.json').read()\n",
    "state = json.loads(state)"
   ]
  },
  {
   "cell_type": "markdown",
   "metadata": {},
   "source": [
    "Following are the elements in state:\n",
    "```python\n",
    ">>> state.keys()\n",
    ">>> ['city', 'client', 'dipl', 'game', 'gov', 'map', 'options', 'player', 'rules', 'tech', 'unit']\n",
    "```"
   ]
  },
  {
   "cell_type": "code",
   "execution_count": 3,
   "metadata": {},
   "outputs": [],
   "source": [
    "STATE_INFORMATION_KEYS = ['city', 'client', 'dipl', 'game', 'gov', 'map', 'options', 'player', 'rules', 'tech', 'unit']\n",
    "\n",
    "ACTION_INFO = ['city', 'dipl', 'gov', 'map', 'tech', 'unit']"
   ]
  },
  {
   "cell_type": "code",
   "execution_count": 49,
   "metadata": {
    "scrolled": false
   },
   "outputs": [
    {
     "data": {
      "text/plain": [
       "dict_keys(['110', '111', '112', '150', '157', '159', '160', '161', '162', '163', '168', '169', '171'])"
      ]
     },
     "execution_count": 49,
     "metadata": {},
     "output_type": "execute_result"
    }
   ],
   "source": [
    "state['unit'].keys()"
   ]
  },
  {
   "cell_type": "code",
   "execution_count": 30,
   "metadata": {},
   "outputs": [],
   "source": [
    "class RulesEngine():\n",
    "    def __init__(self, state):\n",
    "        self.num_attr = 0\n",
    "        self.attr = []\n",
    "        for key in state:\n",
    "            setattr(self, key, state[key])\n",
    "            self.num_attr += 1\n",
    "            self.attr.append(key)"
   ]
  },
  {
   "cell_type": "code",
   "execution_count": 57,
   "metadata": {
    "scrolled": false
   },
   "outputs": [
    {
     "name": "stdout",
     "output_type": "stream",
     "text": [
      "can_transport\n",
      "health\n",
      "home_city\n",
      "moves_left\n",
      "type_attack_strength\n",
      "type_build_cost\n",
      "type_convert_time\n",
      "type_converted_to\n",
      "type_defense_strength\n",
      "type_firepower\n",
      "type_hp\n",
      "type_move_rate\n",
      "type_rule_name\n",
      "type_vision_radius_sq\n",
      "type_worker\n",
      "upkeep_food\n",
      "upkeep_gold\n",
      "upkeep_shield\n",
      "veteran\n",
      "[*] Workers\n"
     ]
    }
   ],
   "source": [
    "re = RulesEngine(state['unit']['111'])\n",
    "for a in re.attr:\n",
    "    print(a)\n",
    "\n",
    "print('[*]',re.type_rule_name)"
   ]
  },
  {
   "cell_type": "code",
   "execution_count": 54,
   "metadata": {},
   "outputs": [
    {
     "name": "stdout",
     "output_type": "stream",
     "text": [
      "{'can_transport': False, 'health': 10, 'home_city': -1, 'moves_left': 0, 'type_attack_strength': 0, 'type_build_cost': 30, 'type_convert_time': 1, 'type_converted_to': 52, 'type_defense_strength': 1, 'type_firepower': 1, 'type_hp': 10, 'type_move_rate': 3, 'type_rule_name': 'Workers', 'type_vision_radius_sq': 2, 'type_worker': True, 'upkeep_food': 0, 'upkeep_gold': 0, 'upkeep_shield': 0, 'veteran': 0}\n"
     ]
    }
   ],
   "source": [
    "print(state['unit']['110'])"
   ]
  },
  {
   "cell_type": "code",
   "execution_count": null,
   "metadata": {},
   "outputs": [],
   "source": []
  },
  {
   "cell_type": "code",
   "execution_count": null,
   "metadata": {},
   "outputs": [],
   "source": []
  },
  {
   "cell_type": "code",
   "execution_count": null,
   "metadata": {},
   "outputs": [],
   "source": []
  },
  {
   "cell_type": "code",
   "execution_count": 49,
   "metadata": {},
   "outputs": [],
   "source": [
    "city_141 = list(state['city']['141'].keys())"
   ]
  },
  {
   "cell_type": "code",
   "execution_count": 50,
   "metadata": {
    "scrolled": false
   },
   "outputs": [],
   "source": [
    "city_158 = list(state['city']['158'].keys())"
   ]
  },
  {
   "cell_type": "code",
   "execution_count": 53,
   "metadata": {},
   "outputs": [
    {
     "data": {
      "text/plain": [
       "True"
      ]
     },
     "execution_count": 53,
     "metadata": {},
     "output_type": "execute_result"
    }
   ],
   "source": [
    "city_141 == city_158"
   ]
  },
  {
   "cell_type": "code",
   "execution_count": 76,
   "metadata": {},
   "outputs": [],
   "source": [
    "class CityInference():\n",
    "    def __init__(self, entries):\n",
    "        # entries is a dictionary\n",
    "        for k, v in entries.items():\n",
    "            setattr(self, k, v)"
   ]
  },
  {
   "cell_type": "code",
   "execution_count": 77,
   "metadata": {},
   "outputs": [],
   "source": [
    "ci_158 = CityInference(state['city'])"
   ]
  },
  {
   "cell_type": "code",
   "execution_count": 80,
   "metadata": {},
   "outputs": [
    {
     "ename": "AttributeError",
     "evalue": "'CityInference' object has no attribute 'bulbs'",
     "output_type": "error",
     "traceback": [
      "\u001b[0;31m---------------------------------------------------------------------------\u001b[0m",
      "\u001b[0;31mAttributeError\u001b[0m                            Traceback (most recent call last)",
      "\u001b[0;32m<ipython-input-80-c63c84767ddf>\u001b[0m in \u001b[0;36m<module>\u001b[0;34m()\u001b[0m\n\u001b[0;32m----> 1\u001b[0;31m \u001b[0mci_158\u001b[0m\u001b[0;34m.\u001b[0m\u001b[0mbulbs\u001b[0m\u001b[0;34m\u001b[0m\u001b[0m\n\u001b[0m",
      "\u001b[0;31mAttributeError\u001b[0m: 'CityInference' object has no attribute 'bulbs'"
     ]
    }
   ],
   "source": [
    "ci_158.bulbs"
   ]
  },
  {
   "cell_type": "code",
   "execution_count": 111,
   "metadata": {},
   "outputs": [],
   "source": [
    "# get the improvement dictionary\n",
    "impr2num = {}\n",
    "num2impr = {}\n",
    "\n",
    "for k in state['city']['158']:\n",
    "    if 'impr_int' in k:\n",
    "        # perform replacements\n",
    "        k_ = k.replace('.', '_')\n",
    "        k_ = k_.replace(' ', '_')\n",
    "        k_ = k_.replace(\"'\", '_')\n",
    "        k_ = k_.repace('int_', '_').lower()\n",
    "        \n",
    "        # get improvement numbers\n",
    "        num = int(k.split('_')[-1])\n",
    "        \n",
    "        # drop the numbers\n",
    "        if num > 9: k = k[:-3]\n",
    "        else: k = k[:-2]\n",
    "        \n",
    "        # add to dicts\n",
    "        impr2num.update({k: num})\n",
    "        num2impr.update({num: k})\n",
    "        \n",
    "    else:\n",
    "        not_imprs.append(k)\n",
    "        \n",
    "# establish the improvement array\n",
    "impr_array = [False for _ in range(len(impr2num))]"
   ]
  },
  {
   "cell_type": "code",
   "execution_count": 105,
   "metadata": {},
   "outputs": [],
   "source": [
    "impr2num = {}\n",
    "num2impr = {}\n",
    "for i in range(len(imprs)):\n",
    "    # format string\n",
    "    k = imprs[i].replace('.', '_')\n",
    "    k = k.replace(' ', '_')\n",
    "    k = k.replace(\"'\", '_')\n",
    "    k = k.replace('int_', '').lower()\n",
    "    \n",
    "    # get number of improvement\n",
    "    num = int(k.split('_')[-1])\n",
    "    \n",
    "    # drop last numbers\n",
    "    if num > 9: k = k[:-3]\n",
    "    else: k = k[:-2]\n",
    "        \n",
    "    # add to dicts\n",
    "    impr2num.update({k: num})\n",
    "    num2impr.update({num: k})\n",
    "    "
   ]
  },
  {
   "cell_type": "code",
   "execution_count": 114,
   "metadata": {},
   "outputs": [
    {
     "data": {
      "text/plain": [
       "[\"impr_int_A.Smith's Trading Co._40\",\n",
       " 'impr_int_Airport_0',\n",
       " 'impr_int_Apollo Program_39',\n",
       " 'impr_int_Aqueduct_1',\n",
       " 'impr_int_Bank_2',\n",
       " 'impr_int_Barracks III_5',\n",
       " 'impr_int_Barracks II_4',\n",
       " 'impr_int_Barracks_3',\n",
       " 'impr_int_Cathedral_6',\n",
       " 'impr_int_City Walls_7',\n",
       " 'impr_int_Coastal Defense_8',\n",
       " 'impr_int_Coinage_67',\n",
       " 'impr_int_Colosseum_9',\n",
       " 'impr_int_Colossus_41',\n",
       " \"impr_int_Copernicus' Observatory_42\",\n",
       " 'impr_int_Courthouse_10',\n",
       " 'impr_int_Cure For Cancer_43',\n",
       " \"impr_int_Darwin's Voyage_44\",\n",
       " 'impr_int_Eiffel Tower_45',\n",
       " 'impr_int_Factory_11',\n",
       " 'impr_int_Granary_12',\n",
       " 'impr_int_Great Library_46',\n",
       " 'impr_int_Great Wall_47',\n",
       " 'impr_int_Hanging Gardens_48',\n",
       " 'impr_int_Harbor_13',\n",
       " 'impr_int_Hoover Dam_49',\n",
       " 'impr_int_Hydro Plant_14',\n",
       " \"impr_int_Isaac Newton's College_50\",\n",
       " \"impr_int_J.S. Bach's Cathedral_51\",\n",
       " \"impr_int_King Richard's Crusade_52\",\n",
       " \"impr_int_Leonardo's Workshop_53\",\n",
       " 'impr_int_Library_15',\n",
       " 'impr_int_Lighthouse_54',\n",
       " \"impr_int_Magellan's Expedition_55\",\n",
       " 'impr_int_Manhattan Project_56',\n",
       " \"impr_int_Marco Polo's Embassy_57\",\n",
       " 'impr_int_Marketplace_16',\n",
       " 'impr_int_Mass Transit_17',\n",
       " 'impr_int_Mfg. Plant_18',\n",
       " \"impr_int_Michelangelo's Chapel_58\",\n",
       " 'impr_int_Nuclear Plant_19',\n",
       " 'impr_int_Offshore Platform_20',\n",
       " 'impr_int_Oracle_59',\n",
       " 'impr_int_Palace_21',\n",
       " 'impr_int_Police Station_22',\n",
       " 'impr_int_Port Facility_23',\n",
       " 'impr_int_Power Plant_24',\n",
       " 'impr_int_Pyramids_60',\n",
       " 'impr_int_Recycling Center_25',\n",
       " 'impr_int_Research Lab_26',\n",
       " 'impr_int_SAM Battery_27',\n",
       " 'impr_int_SDI Defense_28',\n",
       " 'impr_int_SETI Program_61',\n",
       " 'impr_int_Sewer System_29',\n",
       " \"impr_int_Shakespeare's Theater_62\",\n",
       " 'impr_int_Solar Plant_30',\n",
       " 'impr_int_Space Component_31',\n",
       " 'impr_int_Space Module_32',\n",
       " 'impr_int_Space Structural_33',\n",
       " 'impr_int_Statue of Liberty_63',\n",
       " 'impr_int_Stock Exchange_34',\n",
       " \"impr_int_Sun Tzu's War Academy_64\",\n",
       " 'impr_int_Super Highways_35',\n",
       " 'impr_int_Supermarket_36',\n",
       " 'impr_int_Temple_37',\n",
       " 'impr_int_United Nations_65',\n",
       " 'impr_int_University_38',\n",
       " \"impr_int_Women's Suffrage_66\"]"
      ]
     },
     "execution_count": 114,
     "metadata": {},
     "output_type": "execute_result"
    }
   ],
   "source": [
    "imprs"
   ]
  },
  {
   "cell_type": "code",
   "execution_count": 107,
   "metadata": {},
   "outputs": [
    {
     "data": {
      "text/plain": [
       "{'impr_a_smith_s_trading_co_': 40,\n",
       " 'impr_airport': 0,\n",
       " 'impr_apollo_program': 39,\n",
       " 'impr_aqueduct': 1,\n",
       " 'impr_bank': 2,\n",
       " 'impr_barracks_iii': 5,\n",
       " 'impr_barracks_ii': 4,\n",
       " 'impr_barracks': 3,\n",
       " 'impr_cathedral': 6,\n",
       " 'impr_city_walls': 7,\n",
       " 'impr_coastal_defense': 8,\n",
       " 'impr_coinage': 67,\n",
       " 'impr_colosseum': 9,\n",
       " 'impr_colossus': 41,\n",
       " 'impr_copernicus__observatory': 42,\n",
       " 'impr_courthouse': 10,\n",
       " 'impr_cure_for_cancer': 43,\n",
       " 'impr_darwin_s_voyage': 44,\n",
       " 'impr_eiffel_tower': 45,\n",
       " 'impr_factory': 11,\n",
       " 'impr_granary': 12,\n",
       " 'impr_great_library': 46,\n",
       " 'impr_great_wall': 47,\n",
       " 'impr_hanging_gardens': 48,\n",
       " 'impr_harbor': 13,\n",
       " 'impr_hoover_dam': 49,\n",
       " 'impr_hydro_plant': 14,\n",
       " 'impr_isaac_newton_s_college': 50,\n",
       " 'impr_j_s__bach_s_cathedral': 51,\n",
       " 'impr_king_richard_s_crusade': 52,\n",
       " 'impr_leonardo_s_workshop': 53,\n",
       " 'impr_library': 15,\n",
       " 'impr_lighthouse': 54,\n",
       " 'impr_magellan_s_expedition': 55,\n",
       " 'impr_manhattan_project': 56,\n",
       " 'impr_marco_polo_s_embassy': 57,\n",
       " 'impr_marketplace': 16,\n",
       " 'impr_mass_transit': 17,\n",
       " 'impr_mfg__plant': 18,\n",
       " 'impr_michelangelo_s_chapel': 58,\n",
       " 'impr_nuclear_plant': 19,\n",
       " 'impr_offshore_platform': 20,\n",
       " 'impr_oracle': 59,\n",
       " 'impr_palace': 21,\n",
       " 'impr_police_station': 22,\n",
       " 'impr_port_facility': 23,\n",
       " 'impr_power_plant': 24,\n",
       " 'impr_pyramids': 60,\n",
       " 'impr_recycling_center': 25,\n",
       " 'impr_research_lab': 26,\n",
       " 'impr_sam_battery': 27,\n",
       " 'impr_sdi_defense': 28,\n",
       " 'impr_seti_program': 61,\n",
       " 'impr_sewer_system': 29,\n",
       " 'impr_shakespeare_s_theater': 62,\n",
       " 'impr_solar_plant': 30,\n",
       " 'impr_space_component': 31,\n",
       " 'impr_space_module': 32,\n",
       " 'impr_space_structural': 33,\n",
       " 'impr_statue_of_liberty': 63,\n",
       " 'impr_stock_exchange': 34,\n",
       " 'impr_sun_tzu_s_war_academy': 64,\n",
       " 'impr_super_highways': 35,\n",
       " 'impr_supermarket': 36,\n",
       " 'impr_temple': 37,\n",
       " 'impr_united_nations': 65,\n",
       " 'impr_university': 38,\n",
       " 'impr_women_s_suffrage': 66}"
      ]
     },
     "execution_count": 107,
     "metadata": {},
     "output_type": "execute_result"
    }
   ],
   "source": [
    "impr2num"
   ]
  },
  {
   "cell_type": "markdown",
   "metadata": {},
   "source": [
    "## Maps Maps Maps"
   ]
  },
  {
   "cell_type": "code",
   "execution_count": 58,
   "metadata": {},
   "outputs": [
    {
     "name": "stdout",
     "output_type": "stream",
     "text": [
      "(84, 56)\n"
     ]
    },
    {
     "data": {
      "text/plain": [
       "<matplotlib.image.AxesImage at 0x10dbe4c50>"
      ]
     },
     "execution_count": 58,
     "metadata": {},
     "output_type": "execute_result"
    },
    {
     "data": {
      "image/png": "[encoded data removed]",
      "text/plain": [
       "<Figure size 720x720 with 1 Axes>"
      ]
     },
     "metadata": {},
     "output_type": "display_data"
    }
   ],
   "source": [
    "map_status = state['map']['status']\n",
    "map_status = np.array(map_status)\n",
    "print(map_status.shape)\n",
    "# vis\n",
    "plt.figure(figsize = (10, 10))\n",
    "plt.imshow(map_status)"
   ]
  },
  {
   "cell_type": "code",
   "execution_count": 84,
   "metadata": {},
   "outputs": [
    {
     "name": "stdout",
     "output_type": "stream",
     "text": [
      "(84, 56)\n"
     ]
    },
    {
     "data": {
      "text/plain": [
       "<matplotlib.image.AxesImage at 0x11452da90>"
      ]
     },
     "execution_count": 84,
     "metadata": {},
     "output_type": "execute_result"
    },
    {
     "data": {
      "image/png": "[encoded data removed]",
      "text/plain": [
       "<Figure size 720x720 with 1 Axes>"
      ]
     },
     "metadata": {},
     "output_type": "display_data"
    }
   ],
   "source": [
    "map_terrain = state['map']['terrain']\n",
    "map_terrain = np.array(map_terrain)\n",
    "print(map_terrain.shape)\n",
    "# vis\n",
    "plt.figure(figsize = (10, 10))\n",
    "plt.imshow(map_terrain)"
   ]
  },
  {
   "cell_type": "code",
   "execution_count": 86,
   "metadata": {
    "scrolled": false
   },
   "outputs": [
    {
     "name": "stdout",
     "output_type": "stream",
     "text": [
      "(84, 56)\n"
     ]
    },
    {
     "data": {
      "text/plain": [
       "<matplotlib.image.AxesImage at 0x114eb3d68>"
      ]
     },
     "execution_count": 86,
     "metadata": {},
     "output_type": "execute_result"
    },
    {
     "data": {
      "image/png": "[encoded data removed]",
      "text/plain": [
       "<Figure size 720x720 with 1 Axes>"
      ]
     },
     "metadata": {},
     "output_type": "display_data"
    }
   ],
   "source": [
    "# vis\n",
    "print(map_terrain.shape)\n",
    "plt.figure(figsize = (10, 10))\n",
    "plt.imshow(map_terrain[45:48])"
   ]
  },
  {
   "cell_type": "code",
   "execution_count": 74,
   "metadata": {},
   "outputs": [
    {
     "data": {
      "text/plain": [
       "array([0., 0., 0., 0., 0., 0., 0., 0., 0., 0., 1., 2., 2., 2., 0., 0., 0.,\n",
       "       0., 0., 0., 0., 0., 0., 0., 0., 0., 0., 0., 0., 0., 0., 0., 0., 0.,\n",
       "       0., 0., 0., 0., 0., 0., 0., 0., 0., 0., 0., 0., 0., 0., 0., 0., 0.,\n",
       "       0., 0., 0., 0., 0.])"
      ]
     },
     "execution_count": 74,
     "metadata": {},
     "output_type": "execute_result"
    }
   ],
   "source": [
    "map_status[82]"
   ]
  },
  {
   "cell_type": "code",
   "execution_count": 36,
   "metadata": {},
   "outputs": [
    {
     "name": "stdout",
     "output_type": "stream",
     "text": [
      "(84, 56, 128)\n"
     ]
    },
    {
     "data": {
      "text/plain": [
       "<matplotlib.image.AxesImage at 0x10998e7b8>"
      ]
     },
     "execution_count": 36,
     "metadata": {},
     "output_type": "execute_result"
    },
    {
     "data": {
      "image/png": "[encoded data removed]",
      "text/plain": [
       "<Figure size 720x720 with 1 Axes>"
      ]
     },
     "metadata": {},
     "output_type": "display_data"
    }
   ],
   "source": [
    "map_extras = state['map']['extras']\n",
    "map_extras = np.array(map_extras)\n",
    "print(map_extras.shape)\n",
    "# vis\n",
    "plt.figure(figsize = (10, 10))\n",
    "plt.imshow(map_extras[5])"
   ]
  },
  {
   "cell_type": "markdown",
   "metadata": {},
   "source": [
    "I still have a bot of confusion when it comes to using the maps, in particular `status` maps. `status` is equivalent of `holding` that I had. Will go over the various timesteps from the 18 turn game and see how it changes and the gradual development. This is giving me ideas for having a `make_map_gif()` function to make the map growth into a video or GIF."
   ]
  },
  {
   "cell_type": "code",
   "execution_count": 87,
   "metadata": {},
   "outputs": [],
   "source": [
    "from glob import glob"
   ]
  },
  {
   "cell_type": "code",
   "execution_count": 119,
   "metadata": {},
   "outputs": [
    {
     "name": "stdout",
     "output_type": "stream",
     "text": [
      "./examples/observation_turn00_agentAct0007_actions.json\n",
      "./examples/observation_turn00_agentAct0005_nextAction.json\n",
      "./examples/observation_turn00_agentAct0002_nextAction.json\n",
      "./examples/observation_turn00_agentAct0006_actions.json\n",
      "./examples/observation_turn00_agentAct0001_actions.json\n",
      "./examples/observation_turn00_agentAct0005_state.json\n",
      "./examples/observation_turn00_agentAct0008_state.json\n",
      "./examples/observation_turn00_agentAct0003_nextAction.json\n",
      "./examples/observation_turn00_agentAct0002_state.json\n",
      "./examples/observation_turn00_agentAct0007_state.json\n",
      "./examples/observation_turn00_agentAct0004_nextAction.json\n",
      "./examples/observation_turn00_agentAct0004_state.json\n",
      "./examples/observation_turn00_agentAct0001_nextAction.json\n",
      "./examples/observation_turn00_agentAct0008_actions.json\n",
      "./examples/observation_turn00_agentAct0006_nextAction.json\n",
      "./examples/observation_turn00_agentAct0001_state.json\n",
      "./examples/observation_turn00_agentAct0003_actions.json\n",
      "./examples/observation_turn00_agentAct0006_state.json\n",
      "./examples/observation_turn00_agentAct0004_actions.json\n",
      "./examples/observation_turn00_agentAct0008_nextAction.json\n",
      "./examples/observation_turn00_agentAct0007_nextAction.json\n",
      "./examples/observation_turn00_agentAct0005_actions.json\n",
      "./examples/observation_turn00_agentAct0002_actions.json\n",
      "./examples/observation_turn00_agentAct0003_state.json\n"
     ]
    }
   ],
   "source": [
    "# import all the files\n",
    "sa_files_all = glob('./examples/*.json')\n",
    "\n",
    "# clustering the files based on turns\n",
    "turn_clus_files = [[] for _ in range(18)]\n",
    "for f in sa_files_all:\n",
    "    turn_num = int(f.split('_')[1][-2:])\n",
    "    turn_clus_files[turn_num].append(f)\n",
    "    \n",
    "for f in turn_clus_files[0]:\n",
    "    print(f)"
   ]
  },
  {
   "cell_type": "code",
   "execution_count": 118,
   "metadata": {},
   "outputs": [
    {
     "name": "stdout",
     "output_type": "stream",
     "text": [
      "{'extras': 'not serializable', 'status': 'not serializable', 'terrain': 'not serializable'}\n",
      "{'extras': 'not serializable', 'status': 'not serializable', 'terrain': 'not serializable'}\n",
      "{'extras': 'not serializable', 'status': 'not serializable', 'terrain': 'not serializable'}\n",
      "{'extras': 'not serializable', 'status': 'not serializable', 'terrain': 'not serializable'}\n",
      "{'extras': 'not serializable', 'status': 'not serializable', 'terrain': 'not serializable'}\n",
      "{'extras': 'not serializable', 'status': 'not serializable', 'terrain': 'not serializable'}\n",
      "{'extras': 'not serializable', 'status': 'not serializable', 'terrain': 'not serializable'}\n",
      "{'extras': 'not serializable', 'status': 'not serializable', 'terrain': 'not serializable'}\n",
      "{'extras': 'not serializable', 'status': 'not serializable', 'terrain': 'not serializable'}\n",
      "{'extras': 'not serializable', 'status': 'not serializable', 'terrain': 'not serializable'}\n"
     ]
    }
   ],
   "source": [
    "# going over turn 7 and seeing the growth of status map over time\n",
    "map_status = []\n",
    "for f in turn_clus_files[0]:\n",
    "    if f.split('_')[-1] == 'state.json':\n",
    "        read_ = open(f).read()\n",
    "        state = json.loads(read_)\n",
    "        print(state['map'])\n",
    "        mp_ = np.array(state['map']['status'])"
   ]
  },
  {
   "cell_type": "code",
   "execution_count": 112,
   "metadata": {},
   "outputs": [
    {
     "data": {
      "text/plain": [
       "array('not serializable', dtype='<U16')"
      ]
     },
     "execution_count": 112,
     "metadata": {},
     "output_type": "execute_result"
    }
   ],
   "source": [
    "mp_"
   ]
  },
  {
   "cell_type": "code",
   "execution_count": null,
   "metadata": {},
   "outputs": [],
   "source": []
  },
  {
   "cell_type": "code",
   "execution_count": null,
   "metadata": {},
   "outputs": [],
   "source": []
  },
  {
   "cell_type": "code",
   "execution_count": null,
   "metadata": {},
   "outputs": [],
   "source": []
  },
  {
   "cell_type": "code",
   "execution_count": null,
   "metadata": {},
   "outputs": [],
   "source": []
  },
  {
   "cell_type": "markdown",
   "metadata": {},
   "source": [
    "## Action"
   ]
  },
  {
   "cell_type": "code",
   "execution_count": 43,
   "metadata": {},
   "outputs": [],
   "source": [
    "action = open('./example_observations_actions.json').read()\n",
    "action = json.loads(action)"
   ]
  },
  {
   "cell_type": "code",
   "execution_count": 44,
   "metadata": {},
   "outputs": [
    {
     "data": {
      "text/plain": [
       "dict_keys(['city', 'client', 'dipl', 'game', 'gov', 'map', 'options', 'player', 'rules', 'tech', 'unit'])"
      ]
     },
     "execution_count": 44,
     "metadata": {},
     "output_type": "execute_result"
    }
   ],
   "source": [
    "action.keys()"
   ]
  },
  {
   "cell_type": "code",
   "execution_count": 46,
   "metadata": {},
   "outputs": [
    {
     "data": {
      "text/plain": [
       "dict_keys(['110', '111', '112', '150', '157', '159', '160', '161', '162', '163', '168', '169', '171'])"
      ]
     },
     "execution_count": 46,
     "metadata": {},
     "output_type": "execute_result"
    }
   ],
   "source": [
    "action['unit'].keys()"
   ]
  },
  {
   "cell_type": "code",
   "execution_count": 48,
   "metadata": {
    "scrolled": false
   },
   "outputs": [
    {
     "data": {
      "text/plain": [
       "{'airbase': False,\n",
       " 'airlift': False,\n",
       " 'autosettlers': True,\n",
       " 'build': False,\n",
       " 'disband': True,\n",
       " 'explore': False,\n",
       " 'fallout': False,\n",
       " 'forest': False,\n",
       " 'fortify': False,\n",
       " 'fortress': False,\n",
       " 'goto_0': True,\n",
       " 'goto_1': True,\n",
       " 'goto_2': True,\n",
       " 'goto_3': True,\n",
       " 'goto_4': True,\n",
       " 'goto_5': True,\n",
       " 'goto_6': True,\n",
       " 'goto_7': True,\n",
       " 'homecity': False,\n",
       " 'irrigation': False,\n",
       " 'mine': False,\n",
       " 'noorders': False,\n",
       " 'paradrop': False,\n",
       " 'pillage': False,\n",
       " 'pollution': False,\n",
       " 'railroad': False,\n",
       " 'road': False,\n",
       " 'transform': False,\n",
       " 'unit_load': False,\n",
       " 'unit_unload': False,\n",
       " 'upgrade': False}"
      ]
     },
     "execution_count": 48,
     "metadata": {},
     "output_type": "execute_result"
    }
   ],
   "source": [
    "action['unit']['111']"
   ]
  },
  {
   "cell_type": "code",
   "execution_count": 22,
   "metadata": {},
   "outputs": [
    {
     "data": {
      "text/plain": [
       "{}"
      ]
     },
     "execution_count": 22,
     "metadata": {},
     "output_type": "execute_result"
    }
   ],
   "source": [
    "action['game']"
   ]
  }
 ],
 "metadata": {
  "kernelspec": {
   "display_name": "Python 3",
   "language": "python",
   "name": "python3"
  },
  "language_info": {
   "codemirror_mode": {
    "name": "ipython",
    "version": 3
   },
   "file_extension": ".py",
   "mimetype": "text/x-python",
   "name": "python",
   "nbconvert_exporter": "python",
   "pygments_lexer": "ipython3",
   "version": "3.6.5"
  }
 },
 "nbformat": 4,
 "nbformat_minor": 2
}
